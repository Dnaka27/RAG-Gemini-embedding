{
 "cells": [
  {
   "cell_type": "code",
   "execution_count": null,
   "id": "ce79d79b",
   "metadata": {},
   "outputs": [],
   "source": [
    "import os\n",
    "from dotenv import load_dotenv\n",
    "from langchain_core.prompts import ChatPromptTemplate\n",
    "from langchain_core.runnables import RunnablePassthrough\n",
    "from langchain_core.output_parsers import StrOutputParser\n",
    "from langchain_google_genai import ChatGoogleGenerativeAI\n",
    "from langchain_community.vectorstores import Chroma\n",
    "from langchain_google_genai import GoogleGenerativeAIEmbeddings\n",
    "from langchain_community.document_loaders import PyPDFLoader\n",
    "from langchain.text_splitter import RecursiveCharacterTextSplitter\n",
    "from langchain_core.runnables import RunnablePassthrough\n",
    "from IPython.display import display, Markdown"
   ]
  },
  {
   "cell_type": "code",
   "execution_count": null,
   "id": "b023b320",
   "metadata": {},
   "outputs": [],
   "source": [
    "load_dotenv()\n",
    "GEMINI_API_KEY = os.getenv(\"GEMINI_API_KEY\")\n",
    "persist_directory = \"./chroma_db\"\n",
    "\n",
    "# --- Seção de Ingestão de Dados ---\n",
    "# 1.1 Carregar o documento PDF e dividir em pedaços\n",
    "pdf_path = r\"sample_apostila_direito_adm.pdf\"  # <<-- Altere para o caminho do seu arquivo PDF\n",
    "loader = PyPDFLoader(pdf_path)\n",
    "text_splitter = RecursiveCharacterTextSplitter(chunk_size=1000, chunk_overlap=200)\n",
    "documents = loader.load_and_split(text_splitter)"
   ]
  },
  {
   "cell_type": "code",
   "execution_count": null,
   "id": "621b667c",
   "metadata": {},
   "outputs": [],
   "source": [
    "# 2. Inicializar o modelo de embeddings e o banco de dados\n",
    "embeddings_model = GoogleGenerativeAIEmbeddings(google_api_key=GEMINI_API_KEY, model=\"models/embedding-001\")\n",
    "vector_store = Chroma.from_documents(\n",
    "    documents=documents,\n",
    "    embedding=embeddings_model,\n",
    "    persist_directory=persist_directory\n",
    ")"
   ]
  },
  {
   "cell_type": "code",
   "execution_count": null,
   "id": "e87b02cf",
   "metadata": {},
   "outputs": [],
   "source": [
    "retriever = vector_store.as_retriever()\n",
    "\n",
    "# 4. Definir o template do prompt\n",
    "template = \"\"\"\n",
    "Use os seguintes pedaços de contexto para responder à pergunta no final.\n",
    "Se você não souber a resposta, diga que não sabe.\n",
    "\n",
    "Contexto: {context}\n",
    "\n",
    "Pergunta: {question}\n",
    "\"\"\"\n",
    "prompt = ChatPromptTemplate.from_template(template)"
   ]
  },
  {
   "cell_type": "code",
   "execution_count": null,
   "id": "2f199be4",
   "metadata": {},
   "outputs": [],
   "source": [
    "# 5. Inicializar o modelo de linguagem Gemini\n",
    "llm = ChatGoogleGenerativeAI(model=\"gemini-2.5-flash\", temperature=0.7, google_api_key=GEMINI_API_KEY)\n",
    "\n",
    "# 6. Construir a cadeia RAG com LCEL\n",
    "def format_docs(docs):\n",
    "    return \"\\n\\n\".join(doc.page_content for doc in docs)\n",
    "\n",
    "rag_chain = (\n",
    "    {\"context\": retriever | format_docs, \"question\": RunnablePassthrough()}\n",
    "    | prompt\n",
    "    | llm\n",
    "    | StrOutputParser()\n",
    ")"
   ]
  },
  {
   "cell_type": "code",
   "execution_count": null,
   "id": "644886d8",
   "metadata": {},
   "outputs": [],
   "source": [
    "print(\"Pronto para conversar com seu PDF. Digite 'sair' para encerrar.\")\n",
    "while True:\n",
    "    question = input(\"Sua pergunta: \")\n",
    "    if question.lower() == 'sair':\n",
    "        break\n",
    "    \n",
    "    response = rag_chain.invoke(question)  # já é string\n",
    "    display(Markdown(response))"
   ]
  }
 ],
 "metadata": {
  "kernelspec": {
   "display_name": "Python 3",
   "language": "python",
   "name": "python3"
  },
  "language_info": {
   "codemirror_mode": {
    "name": "ipython",
    "version": 3
   },
   "file_extension": ".py",
   "mimetype": "text/x-python",
   "name": "python",
   "nbconvert_exporter": "python",
   "pygments_lexer": "ipython3",
   "version": "3.11.9"
  }
 },
 "nbformat": 4,
 "nbformat_minor": 5
}
