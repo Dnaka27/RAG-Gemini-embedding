{
 "cells": [
  {
   "cell_type": "markdown",
   "id": "6cc2b7d5",
   "metadata": {},
   "source": [
    "# Construindo um RAG com LangChain e Gemini\n",
    "\n",
    "Este notebook demonstra como construir um sistema **RAG (Retrieval-Augmented Generation)** utilizando o **Google Gemini**, `LangChain` e `ChromaDB`.  \n",
    "A ideia é carregar documentos em PDF, criar embeddings, armazená-los em um banco vetorial e depois consultar as informações de forma interativa.\n"
   ]
  },
  {
   "cell_type": "code",
   "execution_count": null,
   "id": "ce79d79b",
   "metadata": {},
   "outputs": [],
   "source": [
    "import os\n",
    "from dotenv import load_dotenv\n",
    "from langchain_core.prompts import ChatPromptTemplate\n",
    "from langchain_core.runnables import RunnablePassthrough\n",
    "from langchain_core.output_parsers import StrOutputParser\n",
    "from langchain_google_genai import ChatGoogleGenerativeAI\n",
    "from langchain_community.vectorstores import Chroma\n",
    "from langchain_google_genai import GoogleGenerativeAIEmbeddings\n",
    "from langchain_community.document_loaders import PyPDFLoader\n",
    "from langchain.text_splitter import RecursiveCharacterTextSplitter\n",
    "from langchain_core.runnables import RunnablePassthrough\n",
    "from IPython.display import display, Markdown"
   ]
  },
  {
   "cell_type": "markdown",
   "id": "9c225745",
   "metadata": {},
   "source": [
    "## 1. Carregar variáveis de ambiente e definir diretórios\n",
    "\n",
    "Aqui carregamos a **API Key** do Gemini (armazenada no `.env`) e definimos o diretório onde o banco vetorial (ChromaDB) será persistido.\n"
   ]
  },
  {
   "cell_type": "code",
   "execution_count": null,
   "id": "b023b320",
   "metadata": {},
   "outputs": [],
   "source": [
    "load_dotenv()\n",
    "GEMINI_API_KEY = os.getenv(\"GEMINI_API_KEY\")\n",
    "persist_directory = \"./chroma_db\""
   ]
  },
  {
   "cell_type": "markdown",
   "id": "435e59de",
   "metadata": {},
   "source": [
    "## 2. Ingestão de Dados (PDF → Texto)\n",
    "\n",
    "1. Carregamos o documento PDF com o `PyPDFLoader`.  \n",
    "2. Dividimos o texto em pedaços menores (`chunks`) para facilitar a indexação e a recuperação de contexto posterior.\n"
   ]
  },
  {
   "cell_type": "code",
   "execution_count": null,
   "id": "74d6665a",
   "metadata": {},
   "outputs": [],
   "source": [
    "\n",
    "pdf_path = r\"sample_apostila_direito_adm.pdf\"  # <<-- Altere para o caminho do seu arquivo PDF\n",
    "loader = PyPDFLoader(pdf_path)\n",
    "text_splitter = RecursiveCharacterTextSplitter(chunk_size=1000, chunk_overlap=200)\n",
    "documents = loader.load_and_split(text_splitter)"
   ]
  },
  {
   "cell_type": "markdown",
   "id": "8d6d0504",
   "metadata": {},
   "source": [
    "## 3. Criar Embeddings e Banco Vetorial (ChromaDB)\n",
    "\n",
    "- Utilizamos o modelo de embeddings do **Gemini** (`models/embedding-001`).  \n",
    "- Armazenamos os vetores em um banco de dados local (`ChromaDB`) para consultas rápidas.\n"
   ]
  },
  {
   "cell_type": "code",
   "execution_count": null,
   "id": "621b667c",
   "metadata": {},
   "outputs": [],
   "source": [
    "embeddings_model = GoogleGenerativeAIEmbeddings(google_api_key=GEMINI_API_KEY, model=\"models/embedding-001\")\n",
    "vector_store = Chroma.from_documents(\n",
    "    documents=documents,\n",
    "    embedding=embeddings_model,\n",
    "    persist_directory=persist_directory\n",
    ")"
   ]
  },
  {
   "cell_type": "markdown",
   "id": "a3a3f9d7",
   "metadata": {},
   "source": [
    "## 4. Configurar o Recuperador e o Prompt\n",
    "\n",
    "- `retriever`: responsável por buscar os trechos mais relevantes no banco vetorial.  \n",
    "- `ChatPromptTemplate`: define a estrutura do prompt que será enviado ao modelo, incluindo o **contexto** e a **pergunta** do usuário.\n"
   ]
  },
  {
   "cell_type": "code",
   "execution_count": null,
   "id": "e87b02cf",
   "metadata": {},
   "outputs": [],
   "source": [
    "retriever = vector_store.as_retriever()\n",
    "\n",
    "# Definir o template do prompt\n",
    "template = \"\"\"\n",
    "Use os seguintes pedaços de contexto para responder à pergunta no final.\n",
    "Se você não souber a resposta, diga que não sabe.\n",
    "\n",
    "Contexto: {context}\n",
    "\n",
    "Pergunta: {question}\n",
    "\"\"\"\n",
    "prompt = ChatPromptTemplate.from_template(template)"
   ]
  },
  {
   "cell_type": "markdown",
   "id": "5c920fae",
   "metadata": {},
   "source": [
    "## 5. Inicializar o Modelo Gemini\n",
    "\n",
    "Aqui usamos o `ChatGoogleGenerativeAI` com temperatura 0.7 para permitir respostas criativas, mas ainda consistentes.\n"
   ]
  },
  {
   "cell_type": "code",
   "execution_count": null,
   "id": "2f199be4",
   "metadata": {},
   "outputs": [],
   "source": [
    "llm = ChatGoogleGenerativeAI(model=\"gemini-2.5-flash\", temperature=0.7, google_api_key=GEMINI_API_KEY)"
   ]
  },
  {
   "cell_type": "markdown",
   "id": "cfb823e7",
   "metadata": {},
   "source": [
    "## 6. Construir a Cadeia RAG (LCEL)\n",
    "\n",
    "Combinamos:\n",
    "1. Recuperação de contexto (`retriever`)  \n",
    "2. Formatação do contexto (`format_docs`)  \n",
    "3. Template do prompt  \n",
    "4. Modelo de linguagem (`llm`)  \n",
    "5. Parser de saída (`StrOutputParser`)\n"
   ]
  },
  {
   "cell_type": "code",
   "execution_count": null,
   "id": "19b164fe",
   "metadata": {},
   "outputs": [],
   "source": [
    "def format_docs(docs):\n",
    "    return \"\\n\\n\".join(doc.page_content for doc in docs)\n",
    "\n",
    "rag_chain = (\n",
    "    {\"context\": retriever | format_docs, \"question\": RunnablePassthrough()}\n",
    "    | prompt\n",
    "    | llm\n",
    "    | StrOutputParser()\n",
    ")"
   ]
  },
  {
   "cell_type": "markdown",
   "id": "15906548",
   "metadata": {},
   "source": [
    "## 7. Interagir com o Modelo\n",
    "\n",
    "Agora podemos fazer perguntas sobre o documento PDF.  \n",
    "Digite sua pergunta e o modelo responderá usando o contexto carregado.  \n",
    "Para encerrar, basta digitar **`sair`**.\n"
   ]
  },
  {
   "cell_type": "code",
   "execution_count": null,
   "id": "644886d8",
   "metadata": {},
   "outputs": [],
   "source": [
    "print(\"Pronto para conversar com seu PDF. Digite 'sair' para encerrar.\")\n",
    "while True:\n",
    "    question = input(\"Sua pergunta: \")\n",
    "    if question.lower() == 'sair':\n",
    "        break\n",
    "    \n",
    "    response = rag_chain.invoke(question)  # já é string\n",
    "    display(Markdown(response))"
   ]
  }
 ],
 "metadata": {
  "kernelspec": {
   "display_name": "Python 3",
   "language": "python",
   "name": "python3"
  },
  "language_info": {
   "codemirror_mode": {
    "name": "ipython",
    "version": 3
   },
   "file_extension": ".py",
   "mimetype": "text/x-python",
   "name": "python",
   "nbconvert_exporter": "python",
   "pygments_lexer": "ipython3",
   "version": "3.11.9"
  }
 },
 "nbformat": 4,
 "nbformat_minor": 5
}
